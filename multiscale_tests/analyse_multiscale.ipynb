{
 "cells": [
  {
   "cell_type": "code",
   "execution_count": 71,
   "metadata": {},
   "outputs": [],
   "source": [
    "import pickle \n",
    "import numpy as np\n",
    "from matplotlib import pyplot as plt\n",
    "import os\n",
    "location = '/Users/perudornellas/python/imperial/cx1_am_kit/multiscale_tests/'"
   ]
  },
  {
   "cell_type": "code",
   "execution_count": 75,
   "metadata": {},
   "outputs": [
    {
     "ename": "SyntaxError",
     "evalue": "invalid syntax (3035358194.py, line 35)",
     "output_type": "error",
     "traceback": [
      "\u001b[0;36m  Input \u001b[0;32mIn [75]\u001b[0;36m\u001b[0m\n\u001b[0;31m    ax[1].scatter(plaquette_numbers,gaps_toric[:,u for u in range(4)])\u001b[0m\n\u001b[0m                                                   ^\u001b[0m\n\u001b[0;31mSyntaxError\u001b[0m\u001b[0;31m:\u001b[0m invalid syntax\n"
     ]
    }
   ],
   "source": [
    "lattice_files = os.listdir(f'{location}results/lattices')\n",
    "property_files = os.listdir(f'{location}results/properties')\n",
    "lattice_files.sort(); property_files.sort()\n",
    "# print(property_files)\n",
    "\n",
    "params_file = '/Users/perudornellas/python/imperial/cx1_am_kit/multiscale_tests/run_params.pickle'\n",
    "\n",
    "with open(params_file, 'rb') as f:\n",
    "    plaquette_numbers = pickle.load(f)\n",
    "    minimum_L, maximum_L , n_steps = pickle.load(f)\n",
    "\n",
    "fig, ax = plt.subplots(1,2, figsize = (20,10))\n",
    "ax[1].set_xscale('log')\n",
    "counter = 0\n",
    "for f_name , p_name in zip(lattice_files, property_files):\n",
    "    counter += 1\n",
    "    # if counter == 10:\n",
    "    #     break\n",
    "    assert(f_name[1] == p_name[1])\n",
    "    with open(location + 'results/lattices/' + f_name , 'rb') as f_lat, open(location + 'results/properties/' + p_name , 'rb') as f_res:\n",
    "        \n",
    "        gaps_toric = np.zeros([n_steps, 4]); energies_toric = np.zeros([n_steps, 4])\n",
    "\n",
    "\n",
    "        for n in range(n_steps):\n",
    "            e_values, p_ratios, t = pickle.load(f_res) \n",
    "            # print(e_values.shape)\n",
    "            indices = [0 , 10, 0 , 10] , [0 , 0 ,10 , 10]\n",
    "            e_toric = e_values[ indices ]\n",
    "            # e_toric = e_values.reshape((20*20, e_values.shape[2]))\n",
    "            energies_toric[n] = np.sum(np.abs(e_toric), axis = 1)\n",
    "            gaps_toric[n] = np.min(np.abs(e_toric), axis=1)\n",
    "        \n",
    "        if not np.all(gaps_toric>1e-14):\n",
    "            for u in range(4):\n",
    "                ax[1].scatter(plaquette_numbers,gaps_toric[:,u ]) \n",
    "            \n",
    "\n",
    "    \n",
    "            \n",
    "\n",
    "\n",
    "        \n"
   ]
  },
  {
   "cell_type": "code",
   "execution_count": null,
   "metadata": {},
   "outputs": [],
   "source": []
  }
 ],
 "metadata": {
  "interpreter": {
   "hash": "80ddfee720550197fc52062574abef68e9a890ae7c6ebe9b01761144b39e94c6"
  },
  "kernelspec": {
   "display_name": "Python 3.9.12 ('phys_fast')",
   "language": "python",
   "name": "python3"
  },
  "language_info": {
   "codemirror_mode": {
    "name": "ipython",
    "version": 3
   },
   "file_extension": ".py",
   "mimetype": "text/x-python",
   "name": "python",
   "nbconvert_exporter": "python",
   "pygments_lexer": "ipython3",
   "version": "3.9.12"
  },
  "orig_nbformat": 4
 },
 "nbformat": 4,
 "nbformat_minor": 2
}
